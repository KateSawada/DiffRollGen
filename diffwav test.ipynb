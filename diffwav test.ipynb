{
 "cells": [
  {
   "cell_type": "code",
   "execution_count": 1,
   "id": "9da718e5-645c-42fd-8e08-36dfd518582b",
   "metadata": {},
   "outputs": [
    {
     "name": "stderr",
     "output_type": "stream",
     "text": [
      "/root/anaconda3/envs/diffusion/lib/python3.8/site-packages/tqdm/auto.py:22: TqdmWarning: IProgress not found. Please update jupyter and ipywidgets. See https://ipywidgets.readthedocs.io/en/stable/user_install.html\n",
      "  from .autonotebook import tqdm as notebook_tqdm\n"
     ]
    }
   ],
   "source": [
    "from model.diffwav import DiffWave\n",
    "import numpy as np\n",
    "import torch\n",
    "%load_ext autoreload\n",
    "%autoreload 2"
   ]
  },
  {
   "cell_type": "code",
   "execution_count": 2,
   "id": "c6bfa261-0c90-4b46-b715-26f930e14b48",
   "metadata": {},
   "outputs": [],
   "source": [
    "class AttrDict(dict):\n",
    "  def __init__(self, *args, **kwargs):\n",
    "      super(AttrDict, self).__init__(*args, **kwargs)\n",
    "      self.__dict__ = self\n",
    "\n",
    "  def override(self, attrs):\n",
    "    if isinstance(attrs, dict):\n",
    "      self.__dict__.update(**attrs)\n",
    "    elif isinstance(attrs, (list, tuple, set)):\n",
    "      for attr in attrs:\n",
    "        self.override(attr)\n",
    "    elif attrs is not None:\n",
    "      raise NotImplementedError\n",
    "    return self"
   ]
  },
  {
   "cell_type": "code",
   "execution_count": 3,
   "id": "6181c9ad-ffa5-4868-b503-a63095170778",
   "metadata": {},
   "outputs": [],
   "source": [
    "params = AttrDict(\n",
    "    # Training params\n",
    "    batch_size=16,\n",
    "    learning_rate=2e-4,\n",
    "    max_grad_norm=None,\n",
    "\n",
    "    # Data params\n",
    "    sample_rate=22050,\n",
    "    n_mels=80,\n",
    "    n_fft=1024,\n",
    "    hop_samples=256,\n",
    "    crop_mel_frames=62,  # Probably an error in paper.\n",
    "\n",
    "    # Model params\n",
    "    residual_layers=30,\n",
    "    residual_channels=64,\n",
    "    dilation_cycle_length=10,\n",
    "    unconditional = False,\n",
    "    noise_schedule=np.linspace(1e-4, 0.05, 50).tolist(),\n",
    "    inference_noise_schedule=[0.0001, 0.001, 0.01, 0.05, 0.2, 0.5],\n",
    "\n",
    "    # unconditional sample len\n",
    "    audio_len = 22050*5, # unconditional_synthesis_samples\n",
    ")"
   ]
  },
  {
   "cell_type": "code",
   "execution_count": 4,
   "id": "85214b35-5aa2-4a61-bff9-e2cb34f90c5e",
   "metadata": {},
   "outputs": [],
   "source": [
    "model = DiffWave(params)"
   ]
  },
  {
   "cell_type": "code",
   "execution_count": 5,
   "id": "8d29d1bc-fc0e-4105-b24a-9440beef59f9",
   "metadata": {},
   "outputs": [],
   "source": [
    "x = torch.randn(4, 17920)"
   ]
  },
  {
   "cell_type": "code",
   "execution_count": 6,
   "id": "7c20280b-82b6-4117-8a0c-9beaebb30b94",
   "metadata": {},
   "outputs": [],
   "source": [
    "spec = torch.randn(4, 80, 70)"
   ]
  },
  {
   "cell_type": "code",
   "execution_count": 7,
   "id": "928e0410-4f1e-4e04-9c5f-a6582d61fbd1",
   "metadata": {},
   "outputs": [
    {
     "name": "stdout",
     "output_type": "stream",
     "text": [
      "after projection x.shape=torch.Size([4, 64, 17920])\n"
     ]
    },
    {
     "data": {
      "text/plain": [
       "tensor([[[-0.0433, -0.0433, -0.0433,  ..., -0.0433, -0.0433, -0.0433]],\n",
       "\n",
       "        [[-0.0433, -0.0433, -0.0433,  ..., -0.0433, -0.0433, -0.0433]],\n",
       "\n",
       "        [[-0.0433, -0.0433, -0.0433,  ..., -0.0433, -0.0433, -0.0433]],\n",
       "\n",
       "        [[-0.0433, -0.0433, -0.0433,  ..., -0.0433, -0.0433, -0.0433]]],\n",
       "       grad_fn=<ConvolutionBackward0>)"
      ]
     },
     "execution_count": 7,
     "metadata": {},
     "output_type": "execute_result"
    }
   ],
   "source": [
    "model(x, torch.tensor([49]), spec)"
   ]
  },
  {
   "cell_type": "code",
   "execution_count": null,
   "id": "86f1fdcb-7836-483a-8a77-c0c2edcd3dcb",
   "metadata": {},
   "outputs": [],
   "source": []
  }
 ],
 "metadata": {
  "kernelspec": {
   "display_name": "diffusion",
   "language": "python",
   "name": "diffusion"
  },
  "language_info": {
   "codemirror_mode": {
    "name": "ipython",
    "version": 3
   },
   "file_extension": ".py",
   "mimetype": "text/x-python",
   "name": "python",
   "nbconvert_exporter": "python",
   "pygments_lexer": "ipython3",
   "version": "3.8.10"
  }
 },
 "nbformat": 4,
 "nbformat_minor": 5
}
